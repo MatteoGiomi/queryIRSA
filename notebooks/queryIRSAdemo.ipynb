{
 "cells": [
  {
   "cell_type": "markdown",
   "metadata": {},
   "source": [
    "# using queryIRSA: building the databases\n",
    "\n",
    "This notebook demonstrates the workings of queryIRSA and how to use it to have an overview of ZTF observations and to download data. The base of the package is a mongoDB database called **IRSAmeta** containing several collections, each one containing the data of each IRSA metadata table for a specific dataset:\n",
    " - 'sci' science images (calibrated) and catalogs (PSF and aperture)\n",
    " - 'cal' calibration products (calibrated)\n",
    " - 'raw' raw files\n",
    " - 'ref' reference images (calibrated)\n",
    "\n",
    "As a firts step, user popoulates these database. These can then be queried with standard mongog synthax to isolate the metadata decibing the files one is interested in. Once these metadata are available, they can be used to download the actual files.\n",
    "\n",
    "for more details on IRSA metadata and data access, see:\n",
    "https://irsa.ipac.caltech.edu/docs/program_interface/ztf_metadata.html\n",
    "https://irsa.ipac.caltech.edu/docs/program_interface/ztf_api.html\n",
    "\n",
    "\n",
    "## Inserting metadata in the DB\n",
    "\n",
    "Initially, the database is empty. There are several methods that can be used to fill it up and update it. They are all based on requesting data for particular time ranges. There are two basic options:\n",
    " * query for time ranges (strings or astropy.time.Time)\n",
    " * query for a night ID or a range of those. The night ID is an integer counting nights from 2017-01-01 onwards.\n",
    "These two functions they both query IRSA website for the desired metadata and first download it as a `pandas.DataFrame` whose records are then inserted in the database."
   ]
  },
  {
   "cell_type": "code",
   "execution_count": 2,
   "metadata": {},
   "outputs": [
    {
     "name": "stderr",
     "output_type": "stream",
     "text": [
      "INFO:queryIRSA.metadata:Initialized metadata for type: sci\n"
     ]
    },
    {
     "data": {
      "text/plain": [
       "0"
      ]
     },
     "execution_count": 2,
     "metadata": {},
     "output_type": "execute_result"
    }
   ],
   "source": [
    "from queryIRSA.metadata import metaDB\n",
    "meta = metaDB('sci')\n",
    "meta.coll.count()"
   ]
  },
  {
   "cell_type": "code",
   "execution_count": 3,
   "metadata": {},
   "outputs": [
    {
     "name": "stderr",
     "output_type": "stream",
     "text": [
      "INFO:queryIRSA.metadata:querying metadata of type sci for time range (2018-07-11 00:00:00.000 2018-07-12 00:00:00.000)\n"
     ]
    },
    {
     "data": {
      "text/plain": [
       "16930"
      ]
     },
     "execution_count": 3,
     "metadata": {},
     "output_type": "execute_result"
    }
   ],
   "source": [
    "# inserting the metadata for data taken in a specific time range\n",
    "# valid inputs are strings or (scalar) astropy.time.Time objects \n",
    "meta.insert_for_time_range('2018-07-11', '2018-07-12')\n",
    "meta.coll.count()"
   ]
  },
  {
   "cell_type": "code",
   "execution_count": 4,
   "metadata": {},
   "outputs": [
    {
     "name": "stdout",
     "output_type": "stream",
     "text": [
      "night ID 498 secretly corresponds to 2018-05-14\n"
     ]
    },
    {
     "data": {
      "text/plain": [
       "32292"
      ]
     },
     "execution_count": 4,
     "metadata": {},
     "output_type": "execute_result"
    }
   ],
   "source": [
    "# inserting data for a particular night. We use the 'night ID' (nid)\n",
    "# field. To convert from nid to human readable format we can use\n",
    "# the following function\n",
    "from queryIRSA.utils.time import nid_to_fits\n",
    "nid = 498\n",
    "print (\"night ID %d secretly corresponds to %s\"%(nid, nid_to_fits(nid)))\n",
    "meta.insert_for_nid(nid)\n",
    "meta.coll.count()"
   ]
  },
  {
   "cell_type": "markdown",
   "metadata": {},
   "source": [
    "## a small note on indexing\n",
    "\n",
    "thanks to a patented ultra clever way of indexing the database, you won't have duplicates, even if you accidentally try. Realizing this won't be immedaite, but eventually the code will find it out and dutifully notify the grateful user."
   ]
  },
  {
   "cell_type": "code",
   "execution_count": 5,
   "metadata": {},
   "outputs": [
    {
     "name": "stderr",
     "output_type": "stream",
     "text": [
      "WARNING:queryIRSA.metadata:no new document to be inserted in collection.\n"
     ]
    }
   ],
   "source": [
    "meta.insert_for_nid(nid)"
   ]
  },
  {
   "cell_type": "markdown",
   "metadata": {},
   "source": [
    "# NOW FOR REAL:\n",
    "\n",
    "let's populate the database with all the metadata available untill the present moment (which is actually in the future, since it will be avaluated inside the method call). Using the `build_database` method will query for chunks of metadata corresponding to 7 nights (using night ids). It will do so using some (8 by default) parallel threads. It might take a while and consume quite some memory, better go get a coffe."
   ]
  },
  {
   "cell_type": "code",
   "execution_count": 6,
   "metadata": {},
   "outputs": [
    {
     "name": "stderr",
     "output_type": "stream",
     "text": [
      "INFO:queryIRSA.metadata:building the IRSA metadatabase for product: sci using 130 queries\n",
      " 55%|█████▌    | 72/130 [24:49<19:59, 20.68s/it]WARNING:queryIRSA.metadata:no new document to be inserted in collection.\n",
      " 60%|██████    | 78/130 [29:18<19:32, 22.55s/it]WARNING:queryIRSA.metadata:no new document to be inserted in collection.\n",
      "100%|██████████| 130/130 [1:00:54<00:00, 28.11s/it]\n",
      "INFO:queryIRSA.metadata:finished building the database\n"
     ]
    }
   ],
   "source": [
    "meta.build_database()"
   ]
  },
  {
   "cell_type": "code",
   "execution_count": null,
   "metadata": {
    "collapsed": true
   },
   "outputs": [],
   "source": []
  },
  {
   "cell_type": "code",
   "execution_count": null,
   "metadata": {
    "collapsed": true
   },
   "outputs": [],
   "source": []
  },
  {
   "cell_type": "code",
   "execution_count": null,
   "metadata": {
    "collapsed": true
   },
   "outputs": [],
   "source": []
  }
 ],
 "metadata": {
  "kernelspec": {
   "display_name": "Python 3",
   "language": "python",
   "name": "python3"
  },
  "language_info": {
   "codemirror_mode": {
    "name": "ipython",
    "version": 3
   },
   "file_extension": ".py",
   "mimetype": "text/x-python",
   "name": "python",
   "nbconvert_exporter": "python",
   "pygments_lexer": "ipython3",
   "version": "3.6.3"
  }
 },
 "nbformat": 4,
 "nbformat_minor": 2
}
