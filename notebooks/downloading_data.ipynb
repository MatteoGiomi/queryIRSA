{
 "cells": [
  {
   "cell_type": "markdown",
   "metadata": {},
   "source": [
    "# using queryIRSA: downloading data\n",
    "\n",
    "Once we have build the local IRSA metadata database, we can use it to do all sorts of queries and download the corresponding data products.\n",
    "\n",
    "## Coordinate based queries\n",
    "\n",
    "A very useful feature of the IRSA ZTF API is the ability to return you the metadata for all the images that contains a given point in the sky. As this feature is not relying on the local database, we init the metaDB object with the `wdb` flag set to False."
   ]
  },
  {
   "cell_type": "code",
   "execution_count": 1,
   "metadata": {},
   "outputs": [
    {
     "name": "stderr",
     "output_type": "stream",
     "text": [
      "INFO:queryIRSA.metadata:Initialized metadata for type: sci\n",
      "INFO:queryIRSA.metadata:querying IRSA for data at this position (RA: 143.23000, Dec: 42.12000)\n",
      "WARNING: ErfaWarning: ERFA function \"dtf2d\" yielded 1 of \"dubious year (Note 6)\" [astropy._erfa.core]\n",
      "WARNING:astropy:ErfaWarning: ERFA function \"dtf2d\" yielded 1 of \"dubious year (Note 6)\"\n",
      "WARNING: ErfaWarning: ERFA function \"d2dtf\" yielded 1 of \"dubious year (Note 5)\" [astropy._erfa.core]\n",
      "WARNING:astropy:ErfaWarning: ERFA function \"d2dtf\" yielded 1 of \"dubious year (Note 5)\"\n",
      "INFO:queryIRSA.metadata:querying IRSA for data taken between 2018-07-11 00:00:00.000 (2458310.50000) and 2026-01-01 00:00:00.000 (2461041.50000)\n"
     ]
    },
    {
     "name": "stdout",
     "output_type": "stream",
     "text": [
      "2018-07-11 00:00:00.000 2026-01-01 00:00:00.000\n"
     ]
    },
    {
     "name": "stderr",
     "output_type": "stream",
     "text": [
      "INFO:queryIRSA.metadata:querying IRSA for data at this position (RA: 143.23000, Dec: 42.12000)\n",
      "INFO:queryIRSA.metadata:querying IRSA for data taken between 2016-01-01 00:00:00.000 (2457388.50000) and 2018-07-11 00:00:00.000 (2458310.50000)\n"
     ]
    },
    {
     "name": "stdout",
     "output_type": "stream",
     "text": [
      "2016-01-01 00:00:00.000 2018-07-11 00:00:00.000\n"
     ]
    },
    {
     "name": "stderr",
     "output_type": "stream",
     "text": [
      "INFO:queryIRSA.metadata:querying IRSA for data at this position (RA: 143.23000, Dec: 42.12000)\n",
      "INFO:queryIRSA.metadata:querying IRSA for data taken between 2018-07-10 00:00:00.000 (2458309.50000) and 2018-07-12 00:00:00.000 (2458311.50000)\n"
     ]
    },
    {
     "name": "stdout",
     "output_type": "stream",
     "text": [
      "2018-07-10 00:00:00.000 2018-07-12 00:00:00.000\n"
     ]
    }
   ],
   "source": [
    "from queryIRSA.metadata import metaDB\n",
    "meta = metaDB('sci', wdb=False)\n",
    "\n",
    "# querying for all the images: returns a dataframe\n",
    "df0 = meta.querypos(ra=143.23, dec=42.12)\n",
    "\n",
    "# query for all the data since my last birthday\n",
    "df1 = meta.querypos(ra=143.23, dec=42.12, time=['2018-07-11', None])\n",
    "\n",
    "# or up untill my birthday\n",
    "df2 = meta.querypos(ra=143.23, dec=42.12, time=[None, '2018-07-11'])\n",
    "\n",
    "# or around my birthday\n",
    "df3 = meta.querypos(ra=143.23, dec=42.12, time=['2018-07-10', '2018-07-12'])"
   ]
  },
  {
   "cell_type": "code",
   "execution_count": 2,
   "metadata": {},
   "outputs": [],
   "source": [
    "# update the database (it will create it if it's not there yet)\n",
    "#meta.update_database()"
   ]
  },
  {
   "cell_type": "code",
   "execution_count": null,
   "metadata": {
    "collapsed": true
   },
   "outputs": [],
   "source": []
  },
  {
   "cell_type": "code",
   "execution_count": null,
   "metadata": {
    "collapsed": true
   },
   "outputs": [],
   "source": []
  }
 ],
 "metadata": {
  "kernelspec": {
   "display_name": "Python 3",
   "language": "python",
   "name": "python3"
  },
  "language_info": {
   "codemirror_mode": {
    "name": "ipython",
    "version": 3
   },
   "file_extension": ".py",
   "mimetype": "text/x-python",
   "name": "python",
   "nbconvert_exporter": "python",
   "pygments_lexer": "ipython3",
   "version": "3.6.3"
  }
 },
 "nbformat": 4,
 "nbformat_minor": 2
}
